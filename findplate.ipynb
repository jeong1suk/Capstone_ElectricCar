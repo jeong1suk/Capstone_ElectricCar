{
  "nbformat": 4,
  "nbformat_minor": 0,
  "metadata": {
    "colab": {
      "private_outputs": true,
      "provenance": [],
      "mount_file_id": "1SJ4R4nWaESxeRQysNBdz4vQ7W-IIMtcW",
      "authorship_tag": "ABX9TyPdJ85QbHOvbwrtkDOS1ROG",
      "include_colab_link": true
    },
    "kernelspec": {
      "name": "python3",
      "display_name": "Python 3"
    },
    "language_info": {
      "name": "python"
    },
    "accelerator": "GPU"
  },
  "cells": [
    {
      "cell_type": "markdown",
      "metadata": {
        "id": "view-in-github",
        "colab_type": "text"
      },
      "source": [
        "<a href=\"https://colab.research.google.com/github/jeong1suk/Capstone_ElectricCar/blob/wonsuk/findplate.ipynb\" target=\"_parent\"><img src=\"https://colab.research.google.com/assets/colab-badge.svg\" alt=\"Open In Colab\"/></a>"
      ]
    },
    {
      "cell_type": "code",
      "source": [
        "!pip install timm"
      ],
      "metadata": {
        "id": "QLX9Fa9fcA_U"
      },
      "execution_count": null,
      "outputs": []
    },
    {
      "cell_type": "code",
      "source": [
        "# !pip uninstall torch torchvision\n",
        "!pip install torch==1.7.1 torchvision==0.8.2 torchaudio==0.7.2"
      ],
      "metadata": {
        "id": "hEFNEGQFcZXi"
      },
      "execution_count": null,
      "outputs": []
    },
    {
      "cell_type": "code",
      "source": [
        "import torch\n",
        "print(\"Torch version:{}\".format(torch.__version__))\n",
        "print(\"cuda version: {}\".format(torch.version.cuda))\n",
        "print(\"cudnn version:{}\".format(torch.backends.cudnn.version()))"
      ],
      "metadata": {
        "id": "K79TPdk4dLXW"
      },
      "execution_count": null,
      "outputs": []
    },
    {
      "cell_type": "code",
      "source": [
        "torch.cuda.is_available()"
      ],
      "metadata": {
        "id": "CvjMq8MJcdGF"
      },
      "execution_count": null,
      "outputs": []
    },
    {
      "cell_type": "code",
      "execution_count": null,
      "metadata": {
        "id": "ddUv9OyNUowy"
      },
      "outputs": [],
      "source": [
        "import torch\n",
        "import timm\n",
        "import torch.nn as nn\n",
        "import matplotlib.pyplot as plt\n",
        "from torch.utils.data import Dataset, DataLoader, Subset\n",
        "from torchvision import transforms, datasets\n",
        "import os\n",
        "import glob\n",
        "from tqdm import tqdm\n",
        "from PIL import Image\n",
        "import random\n",
        "from sklearn.model_selection import train_test_split\n",
        "import torch\n",
        "import cv2\n",
        "import numpy as np\n",
        "import torch.nn.functional as F\n",
        "import matplotlib.pyplot as plt\n",
        "from sklearn.metrics import mean_squared_error\n",
        "\n",
        "os.environ['CUDA_VISIBLE_DEVICES'] = '1'"
      ]
    },
    {
      "cell_type": "code",
      "source": [
        "pretrained_resnet=timm.create_model('resnet18', pretrained=True, num_classes=0, global_pool='')"
      ],
      "metadata": {
        "id": "7rbNxdhca1P5"
      },
      "execution_count": null,
      "outputs": []
    },
    {
      "cell_type": "code",
      "source": [
        "class char_mymodel(nn.Module):\n",
        "    def __init__(self, pretrained_model):\n",
        "        super(char_mymodel, self).__init__()\n",
        "        self.pretrained = pretrained_model\n",
        "        \n",
        "        self.additional_layers1 = nn.Sequential(\n",
        "            nn.Conv2d(512, 45, 3, 1, 1),\n",
        "            nn.BatchNorm2d(45),\n",
        "            nn.ReLU(),\n",
        "        )\n",
        "        self.additional_layers2 = nn.Sequential(\n",
        "            nn.AdaptiveAvgPool2d(output_size=(1,7))\n",
        "        )\n",
        "        \n",
        "    def forward(self, x):\n",
        "        out = self.pretrained(x)\n",
        "        out = self.additional_layers1(out)\n",
        "        out = out[:,:,:,0:7]\n",
        "        out = self.additional_layers2(out)\n",
        "        out = out.permute(0, 3, 1, 2)\n",
        "        return out "
      ],
      "metadata": {
        "id": "oazjuwbua_M-"
      },
      "execution_count": null,
      "outputs": []
    },
    {
      "cell_type": "code",
      "source": [
        "model = char_mymodel(pretrained_model=pretrained_resnet)"
      ],
      "metadata": {
        "id": "a5a4e2dbbq7P"
      },
      "execution_count": null,
      "outputs": []
    },
    {
      "cell_type": "code",
      "source": [
        "print(model)"
      ],
      "metadata": {
        "id": "YWtKSb6EcHYR"
      },
      "execution_count": null,
      "outputs": []
    },
    {
      "cell_type": "code",
      "source": [
        "class load_data(Dataset):\n",
        "    def __init__(self, path, transform=None):\n",
        "        self.img_list = glob.glob(path) # 사용자가 제시한 조건에 맞는 파일명을 리스트 형식으로 반환\n",
        "        self.transform = transform\n",
        "\n",
        "    def __len__(self):\n",
        "        return len(self.img_list)\n",
        "    \n",
        "    def __getitem__(self, idx):\n",
        "        img_name = self.img_list[idx]\n",
        "        ret_img = cv2.imread(img_name)\n",
        "        #print(self.img_list[idx])\n",
        "        return ret_img"
      ],
      "metadata": {
        "id": "5LstrlE_Vjwr"
      },
      "execution_count": null,
      "outputs": []
    },
    {
      "cell_type": "code",
      "source": [
        "def visualization(pred: torch.Tensor, gt:torch.Tensor):\n",
        "    label_template = ['가', '나', '다', '라', '마', '거', '너', '더', '러', '머',\n",
        "                      '버', '서', '어', '저', '고', '노', '도', '로', '모', '보',\n",
        "                      '소', '오', '조', '구', '누', '두', '루', '무', '부', '수',\n",
        "                      '우', '주', '허', '하', '호', '0', '1', '2', '3', '4',\n",
        "                      '5', '6', '7', '8', '9']\n",
        "\n",
        "    pred = pred.type(torch.int64).cpu().detach().numpy()\n",
        "    gt = gt.type(torch.int64).cpu().detach().numpy()\n",
        "\n",
        "    gt_str = ''\n",
        "    for a in range(7):\n",
        "        gt_str += label_template[gt[0][a]]\n",
        "    print(\"ground truth: \" + gt_str)\n",
        "\n",
        "    pred_str = ''\n",
        "    for a in range(7):\n",
        "        pred_str += label_template[pred[0][a]]\n",
        "    print(\"prediction: \" + pred_str)"
      ],
      "metadata": {
        "id": "MJXtQtFVcSKX"
      },
      "execution_count": null,
      "outputs": []
    },
    {
      "cell_type": "code",
      "source": [
        "class AverageMeter(object):\n",
        "    \"\"\"Computes and stores the average and current value\"\"\"\n",
        "    def __init__(self):\n",
        "        self.reset()\n",
        "\n",
        "    def reset(self):\n",
        "        self.val = 0\n",
        "        self.avg = 0\n",
        "        self.sum = 0\n",
        "        self.count = 0\n",
        "\n",
        "    def update(self, val, n=1):\n",
        "        self.val = val\n",
        "        self.sum += val * n\n",
        "        self.count += n\n",
        "        self.avg = self.sum / self.count"
      ],
      "metadata": {
        "id": "k0srlwCScT9E"
      },
      "execution_count": null,
      "outputs": []
    },
    {
      "cell_type": "code",
      "source": [
        "from google.colab.patches import cv2_imshow"
      ],
      "metadata": {
        "id": "kda2vuPVYaV0"
      },
      "execution_count": null,
      "outputs": []
    },
    {
      "cell_type": "code",
      "source": [
        "train_dataset = load_data(\"/content/drive/MyDrive/licenseplate/train/*.jpeg\")\n",
        "train_loader = DataLoader(train_dataset, batch_size=32, shuffle=False)"
      ],
      "metadata": {
        "id": "sN7qb27ZXa9M"
      },
      "execution_count": null,
      "outputs": []
    },
    {
      "cell_type": "code",
      "source": [
        "print(len(train_dataset))"
      ],
      "metadata": {
        "id": "GOIpUGAUYjnS"
      },
      "execution_count": null,
      "outputs": []
    },
    {
      "cell_type": "code",
      "source": [
        "for sample_batch in train_loader:\n",
        "    print(sample_batch)\n",
        "    #print(sample_batch[0].shape, sample_batch[1].shape)\n",
        "    break"
      ],
      "metadata": {
        "id": "6aa_qVvzZ8aT"
      },
      "execution_count": null,
      "outputs": []
    },
    {
      "cell_type": "code",
      "source": [
        "epoch = 256\n",
        "device = torch.device('cuda')\n",
        "model = model.to(device)\n",
        "criterion = nn.CrossEntropyLoss()\n",
        "optimizer = torch.optim.Adam(model.parameters(), lr=0.01)\n",
        "\n",
        "x = torch.randn(64, 3, 128, 256, requires_grad=True).to(device)"
      ],
      "metadata": {
        "id": "nZuFXqpYaJGQ"
      },
      "execution_count": null,
      "outputs": []
    },
    {
      "cell_type": "code",
      "source": [
        "best = 0\n",
        "count = 0\n",
        "\n",
        "for ep in range(epoch):\n",
        "    print(\"epoch {}/{}\".format(ep, epoch-1))\n",
        "    print('-'*10)\n",
        "    avg_loss = AverageMeter()\n",
        "    \n",
        "    model.train()\n",
        "    for idx, img in tqdm(enumerate(train_loader), total=len(train_loader)):\n",
        "        data_x = img.type(torch.float32).to(device)\n",
        "        #print(\"data_x: \", data_x.shape)\n",
        "        data_x = data_x.permute(0,3,1,2)\n",
        "        out = model(data_x)\n",
        "        out = out.squeeze(-1)\n",
        "        #print(\"shape: \", out.shape)"
      ],
      "metadata": {
        "id": "hZj0_Yx2fLVk"
      },
      "execution_count": null,
      "outputs": []
    },
    {
      "cell_type": "code",
      "source": [],
      "metadata": {
        "id": "unYo8PKrgYXB"
      },
      "execution_count": null,
      "outputs": []
    }
  ]
}